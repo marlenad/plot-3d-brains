{
 "cells": [
  {
   "cell_type": "markdown",
   "metadata": {},
   "source": [
    "# Plotting Power ROIs on an interactive glass brain using `nilearn`\n",
    "\n",
    "Example output:\n",
    "\n",
    "<img src=\"glassBrain_example.png\">"
   ]
  },
  {
   "cell_type": "code",
   "execution_count": 60,
   "metadata": {},
   "outputs": [],
   "source": [
    "import numpy as np\n",
    "from nilearn import plotting\n",
    "from matplotlib import cm\n",
    "\n",
    "def generate_cmap_categorical(nets):\n",
    "    colors = [0]*nets.shape[0]\n",
    "    n_subnets = np.unique(nets).size\n",
    "    # most cmaps have 256 values, and we want to grab colors evenly spaced throughout the spectrum\n",
    "    # if n_subnets > 10, you'll want to use a diverging color map and the scaling_factor\n",
    "    scaling_factor = int(np.floor(256/(n_subnets+1)))\n",
    "    for i in range(1,n_subnets+1):\n",
    "        idxs = np.where(nets == i)[0]\n",
    "        for x in idxs: \n",
    "            # you can change the color palette below (i.e. cm.Spectral(i))\n",
    "            # if using a diverging color palette remember to do i*scaling_factor:\n",
    "            colors[int(x)] = cm.hsv(i*scaling_factor)\n",
    "            \n",
    "            # if n_subnets < 10 you can use a categorical cmap and no scaling_factor:\n",
    "            #colors[int(x)] = cm.Set1(i)\n",
    "    return colors\n",
    "\n",
    "# if you only care about a subset of networks \n",
    "def generate_cmap_categorical_selectNets(nets, selected_nets):\n",
    "    colors = [0]*nets.shape[0]\n",
    "    n_subnets = np.unique(nets).size\n",
    "    # most cmaps have 256 values, and we want to grab colors evenly spaced throughout the spectrum\n",
    "    # if n_subnets > 10, you'll want to use a diverging color map and the scaling_factor\n",
    "    scaling_factor = int(np.floor(256/(n_subnets+1)))\n",
    "    for i in range(n_subnets):\n",
    "        idxs = np.where(nets == selected_nets[i])[0]\n",
    "        for x in idxs: \n",
    "            # you can change the color palette below (i.e. cm.Spectral(i))\n",
    "            # if using a diverging color palette remember to do i*scaling_factor\n",
    "            #colors[int(x)] = cm.Spectral(i*scaling_factor)\n",
    "            \n",
    "            # if n_subnets < 10 you can use a categorical cmap and no scaling_factor\n",
    "            colors[int(x)] = cm.Dark2(i)\n",
    "    return colors\n",
    "\n",
    "def generate_cmap_continuous(scores):\n",
    "    colors = [0]*scores.shape[0]\n",
    "    # scale the values in scores to range(256) and grab color from cmap\n",
    "    for i in range(scores.shape[0]):\n",
    "        scaled = (scores[i] - np.min(scores))/(np.max(scores) - np.min(scores))*255 \n",
    "        colors[i] = cm.BuPu(int(np.round(scaled)))\n",
    "    return colors"
   ]
  },
  {
   "cell_type": "markdown",
   "metadata": {},
   "source": [
    "Basic running:"
   ]
  },
  {
   "cell_type": "code",
   "execution_count": 57,
   "metadata": {},
   "outputs": [],
   "source": [
    "# load in data\n",
    "data = np.loadtxt(open('PowerParcellation_coordinates_networklabels.csv','rb'), \n",
    "                  delimiter=\",\",usecols = (1,2,3), skiprows=1)\n",
    "networks = np.loadtxt(open('PowerParcellation_coordinates_networklabels.csv','rb'), \n",
    "                  delimiter=\",\",usecols = (4), skiprows=1)\n",
    "\n",
    "# mapping network numbers to labels\n",
    "network_labels = {1:\"Somatomotor - hand\", 2: \"Somatomotor - faces\",\n",
    "                 3:\"Cingulo-opercular\", 4:\"Auditory\", 5:\"Default Mode\",\n",
    "                 6:\"Memory Retrieval\", 7:\"Visual\", 8:\"Fronto-parietal\",\n",
    "                 9:\"Salience\", 10:\"Subcortical\", 11:\"Ventral Attention\",\n",
    "                 12:\"Dorsal Attention\", 13:\"Cerebellum\"}\n",
    "\n",
    "# removing ROIs that are not associated with known subnetworks\n",
    "dat = data[np.where(networks > 0)]\n",
    "nets = networks[np.where(networks > 0)]\n",
    "\n",
    "colors = generate_cmap_categorical(nets)\n",
    "\n",
    "# generate plot and view in new browser window\n",
    "# for best results in saving - take a screenshot of the image in browser\n",
    "view = plotting.view_markers(data, colors, marker_size=8) \n",
    "view.open_in_browser()"
   ]
  },
  {
   "cell_type": "markdown",
   "metadata": {},
   "source": [
    "If you only care about a few subnetworks:"
   ]
  },
  {
   "cell_type": "code",
   "execution_count": 50,
   "metadata": {},
   "outputs": [],
   "source": [
    "# if you only care about a few subnetworks you can use the code here:\n",
    "selected_nets = [3,5,6,8,9,11,12]\n",
    "\n",
    "dat = data[np.where(np.isin(networks, selected_nets))]\n",
    "nets = networks[np.where(np.isin(networks, selected_nets))]\n",
    "\n",
    "colors = generate_cmap_categorical_selectNets(nets,selected_nets)\n",
    "\n",
    "# generate plot and view in new browser window\n",
    "# for best results in saving - take a screenshot of the image in browser\n",
    "view = plotting.view_markers(dat, colors, marker_size=8) \n",
    "view.open_in_browser()"
   ]
  },
  {
   "cell_type": "markdown",
   "metadata": {},
   "source": [
    "If you want to color using a continuous score:"
   ]
  },
  {
   "cell_type": "code",
   "execution_count": 72,
   "metadata": {},
   "outputs": [],
   "source": [
    "scores = np.random.uniform(0,1,data.shape[0])\n",
    "colors = generate_cmap_continuous(scores)\n",
    "\n",
    "# generate plot and view in new browser window\n",
    "# for best results in saving - take a screenshot of the image in browser\n",
    "view = plotting.view_markers(data, colors, marker_size=8) \n",
    "view.open_in_browser()"
   ]
  },
  {
   "cell_type": "markdown",
   "metadata": {},
   "source": [
    "I used the code below to generate the images corresponding to the first line of Yujun's table: WM task within-network. To get corresponding images for the other lines in the table, change `selected_nets` to have the correct network ids, which can be identified from the `network_labels` dictionary above. "
   ]
  },
  {
   "cell_type": "code",
   "execution_count": 73,
   "metadata": {},
   "outputs": [],
   "source": [
    "# if you only care about a few subnetworks you can use the code here:\n",
    "selected_nets = [5,8,9]\n",
    "\n",
    "networks = np.loadtxt(open('PowerParcellation_coordinates_networklabels.csv','rb'), \n",
    "                  delimiter=\",\",usecols = (4), skiprows=1)\n",
    "\n",
    "dat = data[np.where(networks > 0)]\n",
    "nets = networks[np.where(networks > 0)]\n",
    "\n",
    "nets[np.where(np.isin(nets, selected_nets, invert=True))] = 0\n",
    "for i in range(len(selected_nets)):\n",
    "    nets[np.where(nets == selected_nets[i])] = i+1\n",
    "\n",
    "colors = generate_cmap_continuous(nets)\n",
    "\n",
    "# generate plot and view in new browser window\n",
    "# for best results in saving - take a screenshot of the image in browser\n",
    "view = plotting.view_markers(dat, colors, marker_size=10) \n",
    "view.open_in_browser()\n",
    "\n"
   ]
  }
 ],
 "metadata": {
  "kernelspec": {
   "display_name": "Python 3",
   "language": "python",
   "name": "python3"
  },
  "language_info": {
   "codemirror_mode": {
    "name": "ipython",
    "version": 3
   },
   "file_extension": ".py",
   "mimetype": "text/x-python",
   "name": "python",
   "nbconvert_exporter": "python",
   "pygments_lexer": "ipython3",
   "version": "3.7.3"
  }
 },
 "nbformat": 4,
 "nbformat_minor": 2
}
